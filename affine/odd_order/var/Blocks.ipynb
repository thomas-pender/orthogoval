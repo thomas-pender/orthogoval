{
 "cells": [
  {
   "cell_type": "code",
   "execution_count": 1,
   "id": "9fa7bafb",
   "metadata": {},
   "outputs": [],
   "source": [
    "reset()\n",
    "p = 3; n = 2; q = p**n; q2 = q**2"
   ]
  },
  {
   "cell_type": "code",
   "execution_count": 2,
   "id": "43587c63",
   "metadata": {},
   "outputs": [],
   "source": [
    "R.<x>=GF(p)[]\n",
    "F=list(R.quotient(x**4+x+2,'x'))"
   ]
  },
  {
   "cell_type": "code",
   "execution_count": 3,
   "id": "35f7372e",
   "metadata": {},
   "outputs": [],
   "source": [
    "for y in F[q:]:\n",
    "    if len(set(y**k for k in range(q2-1))) == q2-1:\n",
    "        g=y\n",
    "        break"
   ]
  },
  {
   "cell_type": "code",
   "execution_count": 4,
   "id": "b2a8854f",
   "metadata": {},
   "outputs": [],
   "source": [
    "C=[[F[0]]+[g**(k*(q+1)+i) for k in range(q-1)] for i in range(q+1)]"
   ]
  },
  {
   "cell_type": "code",
   "execution_count": 5,
   "id": "6780fded",
   "metadata": {},
   "outputs": [],
   "source": [
    "D=[[[int(a) for a in c.list()] for c in CC] for CC in C]"
   ]
  },
  {
   "cell_type": "code",
   "execution_count": 6,
   "id": "f400330b",
   "metadata": {},
   "outputs": [],
   "source": [
    "f=open('spread.%d.txt' % q,'w')\n",
    "for DD in D:\n",
    "    for d in DD:\n",
    "        t=f.write(' '.join(str(a) for a in d)+'\\n')\n",
    "    t=f.write('\\n')\n",
    "f.flush()"
   ]
  },
  {
   "cell_type": "code",
   "execution_count": null,
   "id": "af639278",
   "metadata": {},
   "outputs": [],
   "source": []
  }
 ],
 "metadata": {
  "kernelspec": {
   "display_name": "SageMath 9.5",
   "language": "sage",
   "name": "sagemath"
  },
  "language_info": {
   "codemirror_mode": {
    "name": "ipython",
    "version": 3
   },
   "file_extension": ".py",
   "mimetype": "text/x-python",
   "name": "python",
   "nbconvert_exporter": "python",
   "pygments_lexer": "ipython3",
   "version": "3.10.12"
  }
 },
 "nbformat": 4,
 "nbformat_minor": 5
}
