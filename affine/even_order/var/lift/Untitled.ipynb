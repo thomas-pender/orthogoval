{
 "cells": [
  {
   "cell_type": "code",
   "execution_count": 1,
   "id": "911a8775",
   "metadata": {},
   "outputs": [],
   "source": [
    "reset()"
   ]
  },
  {
   "cell_type": "code",
   "execution_count": 2,
   "id": "a2acbeac",
   "metadata": {},
   "outputs": [],
   "source": [
    "R.<x>=GF(2)[]\n",
    "F=list(R.quotient(x**12 + x**6 + x**4 + x + 1,'x'))\n",
    "\n",
    "F8={x for x in F if x**8-x==0}\n",
    "F4={x for x in F if x**4-x==0}"
   ]
  },
  {
   "cell_type": "code",
   "execution_count": 3,
   "id": "d291c4a9",
   "metadata": {},
   "outputs": [],
   "source": [
    "for y in F[1:]:\n",
    "    if len(set(y**k for k in range(len(F)-1)))==len(F)-1:\n",
    "        g=y\n",
    "        break"
   ]
  },
  {
   "cell_type": "code",
   "execution_count": 4,
   "id": "e082085f",
   "metadata": {},
   "outputs": [],
   "source": [
    "C8=[[F[0]]+[g**(73*k + i) for k in range(7)] for i in range(9)]\n",
    "C4=[[F[0]]+[g**(1365*k + i) for k in range(3)] for i in range(5)]"
   ]
  },
  {
   "cell_type": "code",
   "execution_count": 5,
   "id": "2597cc26",
   "metadata": {},
   "outputs": [],
   "source": [
    "D8=[[[int(y) for y in c.list()] for c in C] for C in C8]\n",
    "D4=[[[int(y) for y in c.list()] for c in C] for C in C4]"
   ]
  },
  {
   "cell_type": "code",
   "execution_count": 6,
   "id": "7e5c1b53",
   "metadata": {},
   "outputs": [],
   "source": [
    "E8=[[sum(d[i]*(2**i) for i in range(len(d))) for d in D] for D in D8]\n",
    "E4=[[sum(d[i]*(2**i) for i in range(len(d))) for d in D] for D in D4]"
   ]
  },
  {
   "cell_type": "code",
   "execution_count": 7,
   "id": "3c04ef68",
   "metadata": {},
   "outputs": [],
   "source": [
    "f=open('spread.8.txt','w')\n",
    "for E in E8:\n",
    "     t=f.write(' '.join(str(y) for y in E)+'\\n')\n",
    "f.flush()\n",
    "f.close()"
   ]
  },
  {
   "cell_type": "code",
   "execution_count": 8,
   "id": "ba19c6ab",
   "metadata": {},
   "outputs": [],
   "source": [
    "f=open('spread.4.txt','w')\n",
    "for E in E4:\n",
    "    t=f.write(' '.join(str(y) for y in E)+'\\n')\n",
    "f.flush()\n",
    "f.close()"
   ]
  },
  {
   "cell_type": "code",
   "execution_count": null,
   "id": "aff6e696",
   "metadata": {},
   "outputs": [],
   "source": []
  }
 ],
 "metadata": {
  "kernelspec": {
   "display_name": "SageMath 9.5",
   "language": "sage",
   "name": "sagemath"
  },
  "language_info": {
   "codemirror_mode": {
    "name": "ipython",
    "version": 3
   },
   "file_extension": ".py",
   "mimetype": "text/x-python",
   "name": "python",
   "nbconvert_exporter": "python",
   "pygments_lexer": "ipython3",
   "version": "3.10.12"
  }
 },
 "nbformat": 4,
 "nbformat_minor": 5
}
