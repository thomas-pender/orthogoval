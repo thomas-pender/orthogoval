{
 "cells": [
  {
   "cell_type": "code",
   "execution_count": 1,
   "id": "1a8ee637",
   "metadata": {},
   "outputs": [],
   "source": [
    "reset()\n",
    "p=2; q=2**4; q2=q**2; n=2*log(q,2); N=ceil(log(n,16))"
   ]
  },
  {
   "cell_type": "code",
   "execution_count": 2,
   "id": "d484a00e",
   "metadata": {},
   "outputs": [],
   "source": [
    "R.<x>=GF(p)[]\n",
    "F=list(R.quotient(x**8 + x**4 + x**3 + x**2 + 1,'x'))\n",
    "\n",
    "Fq={x for x in F if x**q-x==0}"
   ]
  },
  {
   "cell_type": "code",
   "execution_count": 3,
   "id": "802f7fdf",
   "metadata": {},
   "outputs": [],
   "source": [
    "for x in F[1:]:\n",
    "    if len(set(x**k for k in range(q2-1)))==q2-1:\n",
    "        g=x\n",
    "        break"
   ]
  },
  {
   "cell_type": "code",
   "execution_count": 4,
   "id": "86079bb3",
   "metadata": {},
   "outputs": [],
   "source": [
    "C=[[F[0]]+[g**(j*(q+1)+i) for j in range(q-1)] for i in range(q+1)]"
   ]
  },
  {
   "cell_type": "code",
   "execution_count": 5,
   "id": "0eaf45bc",
   "metadata": {},
   "outputs": [],
   "source": [
    "D=[[c.list() for c in CC] for CC in C]"
   ]
  },
  {
   "cell_type": "code",
   "execution_count": 6,
   "id": "a8993725",
   "metadata": {},
   "outputs": [],
   "source": [
    "f=open('spread.%d.txt' % q,'w')\n",
    "for DD in D:\n",
    "    for d in DD:\n",
    "        t=f.write('%d ' % (sum(int(d[k])*(2**k) for k in range(n))))\n",
    "    t=f.write('\\n')\n",
    "f.flush()\n",
    "f.close()"
   ]
  },
  {
   "cell_type": "code",
   "execution_count": null,
   "id": "76dabbe2",
   "metadata": {},
   "outputs": [],
   "source": []
  }
 ],
 "metadata": {
  "kernelspec": {
   "display_name": "SageMath 9.5",
   "language": "sage",
   "name": "sagemath"
  },
  "language_info": {
   "codemirror_mode": {
    "name": "ipython",
    "version": 3
   },
   "file_extension": ".py",
   "mimetype": "text/x-python",
   "name": "python",
   "nbconvert_exporter": "python",
   "pygments_lexer": "ipython3",
   "version": "3.10.12"
  }
 },
 "nbformat": 4,
 "nbformat_minor": 5
}
